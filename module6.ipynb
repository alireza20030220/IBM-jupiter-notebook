{
 "cells": [
  {
   "cell_type": "markdown",
   "id": "c1be3e8c",
   "metadata": {},
   "source": [
    "# Data Science Tools and Ecosystem"
   ]
  },
  {
   "cell_type": "markdown",
   "id": "28926499",
   "metadata": {},
   "source": [
    "## summery of module6 Data Science IBM !"
   ]
  },
  {
   "cell_type": "markdown",
   "id": "79a95a7d",
   "metadata": {},
   "source": [
    "### some data science languages:\n",
    "1. python\n",
    "1. R\n",
    "1. julia\n",
    "1. java\n",
    "1. sql\n",
    "1. javascripts\n",
    "1. C/C++\n",
    "\n"
   ]
  },
  {
   "cell_type": "markdown",
   "id": "1565adf2",
   "metadata": {},
   "source": [
    "### data science libraries:\n",
    "1. tensorFlow\n",
    "1. scikit-learn\n",
    "1. numPy\n",
    "1. pandas\n",
    "1. mathplot"
   ]
  },
  {
   "cell_type": "markdown",
   "id": "8627faa1",
   "metadata": {},
   "source": [
    "| data science tools |\n",
    "|---|\n",
    "| Rstudio |\n",
    "|apache zeppelin|\n",
    "|jupiter lab|"
   ]
  },
  {
   "cell_type": "markdown",
   "id": "c942989e",
   "metadata": {},
   "source": [
    "### some arithmetic examples with python "
   ]
  },
  {
   "cell_type": "code",
   "execution_count": 4,
   "id": "bd880706",
   "metadata": {},
   "outputs": [
    {
     "data": {
      "text/plain": [
       "17"
      ]
     },
     "execution_count": 4,
     "metadata": {},
     "output_type": "execute_result"
    }
   ],
   "source": [
    "# multiply and sum \n",
    "(3*4)+5"
   ]
  },
  {
   "cell_type": "code",
   "execution_count": 5,
   "id": "48cb9148",
   "metadata": {},
   "outputs": [
    {
     "data": {
      "text/plain": [
       "3.3333333333333335"
      ]
     },
     "execution_count": 5,
     "metadata": {},
     "output_type": "execute_result"
    }
   ],
   "source": [
    "# minutes to hours\n",
    "200/60"
   ]
  },
  {
   "cell_type": "markdown",
   "id": "b95b17ac",
   "metadata": {},
   "source": [
    "**Objectives :**\n",
    "* show some data science tools\n",
    "* intruduce some data science tools\n"
   ]
  },
  {
   "cell_type": "markdown",
   "id": "b8c70e00",
   "metadata": {},
   "source": [
    "## author:\n",
    "### Alireza Razani\n",
    "[my github](https://github.com/alireza20030220)\n",
    "\n"
   ]
  }
 ],
 "metadata": {
  "kernelspec": {
   "display_name": "Python 3 (ipykernel)",
   "language": "python",
   "name": "python3"
  },
  "language_info": {
   "codemirror_mode": {
    "name": "ipython",
    "version": 3
   },
   "file_extension": ".py",
   "mimetype": "text/x-python",
   "name": "python",
   "nbconvert_exporter": "python",
   "pygments_lexer": "ipython3",
   "version": "3.9.13"
  }
 },
 "nbformat": 4,
 "nbformat_minor": 5
}
