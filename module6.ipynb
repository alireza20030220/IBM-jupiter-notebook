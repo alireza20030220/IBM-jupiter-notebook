{
 "cells": [
  {
   "cell_type": "markdown",
   "id": "c1be3e8c",
   "metadata": {},
   "source": [
    "# module6"
   ]
  },
  {
   "cell_type": "markdown",
   "id": "28926499",
   "metadata": {},
   "source": [
    "## this notebook is for test some syntaxts!"
   ]
  },
  {
   "cell_type": "markdown",
   "id": "79a95a7d",
   "metadata": {},
   "source": [
    "### some data science languages:\n",
    "- python\n",
    "- R\n",
    "- julia\n",
    "- java\n",
    "- sql\n",
    "- javascripts\n",
    "- C/C++\n",
    "\n"
   ]
  },
  {
   "cell_type": "markdown",
   "id": "1565adf2",
   "metadata": {},
   "source": [
    "### data science libraries:\n",
    "- tensorFlow\n",
    "- scikit-learn\n",
    "- numPy\n",
    "- pandas\n",
    "- mathplot"
   ]
  },
  {
   "cell_type": "markdown",
   "id": "a9bd6005",
   "metadata": {},
   "source": [
    "- 5 a number is an arthmetic expression\n",
    "- (3+5) the difference of two numbers is an arithmetic expression.\n",
    "- (2 5), 2 5 -- a product of two numbers is an arithmetic expression.\n"
   ]
  },
  {
   "cell_type": "code",
   "execution_count": 6,
   "id": "bd880706",
   "metadata": {},
   "outputs": [
    {
     "name": "stdout",
     "output_type": "stream",
     "text": [
      "enter first number: 3\n",
      "enter second number: 4\n",
      "multiply:  12\n",
      "sum: 7\n"
     ]
    }
   ],
   "source": [
    "x=int(input('enter first number: '))\n",
    "y=int(input('enter second number: '))\n",
    "print ('multiply: ', x*y)\n",
    "print ('sum:' , x+y)"
   ]
  },
  {
   "cell_type": "code",
   "execution_count": 8,
   "id": "48cb9148",
   "metadata": {},
   "outputs": [
    {
     "name": "stdout",
     "output_type": "stream",
     "text": [
      "enter minute/s :123\n",
      "this is  2.05 hour/s\n"
     ]
    }
   ],
   "source": [
    "x=int(input('enter minute/s :'))\n",
    "x=x/60\n",
    "print ('this is ', x , 'hour/s')"
   ]
  },
  {
   "cell_type": "markdown",
   "id": "b8c70e00",
   "metadata": {},
   "source": [
    "# author"
   ]
  }
 ],
 "metadata": {
  "kernelspec": {
   "display_name": "Python 3 (ipykernel)",
   "language": "python",
   "name": "python3"
  },
  "language_info": {
   "codemirror_mode": {
    "name": "ipython",
    "version": 3
   },
   "file_extension": ".py",
   "mimetype": "text/x-python",
   "name": "python",
   "nbconvert_exporter": "python",
   "pygments_lexer": "ipython3",
   "version": "3.9.13"
  }
 },
 "nbformat": 4,
 "nbformat_minor": 5
}
